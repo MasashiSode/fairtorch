{
 "metadata": {
  "language_info": {
   "codemirror_mode": {
    "name": "ipython",
    "version": 3
   },
   "file_extension": ".py",
   "mimetype": "text/x-python",
   "name": "python",
   "nbconvert_exporter": "python",
   "pygments_lexer": "ipython3",
   "version": "3.7.7-final"
  },
  "orig_nbformat": 2,
  "kernelspec": {
   "name": "python37764bitenvfairtorchvenvad8f8d95cf2449569ff7a08be7d78594",
   "display_name": "Python 3.7.7 64-bit ('env_fairtorch': venv)"
  }
 },
 "nbformat": 4,
 "nbformat_minor": 2,
 "cells": [
  {
   "cell_type": "markdown",
   "metadata": {},
   "source": [
    "# Demonstration by artificial dataset"
   ]
  },
  {
   "cell_type": "code",
   "execution_count": 14,
   "metadata": {},
   "outputs": [],
   "source": [
    "from fairtorch import ConstraintLoss, DemographicParityLoss, EqualiedOddsLoss\n",
    "import random\n",
    "import numpy as np\n",
    "import torch\n",
    "from torch import nn, optim\n",
    "from torch.utils.data import DataLoader, Dataset\n",
    "np.random.seed(2020)"
   ]
  },
  {
   "cell_type": "code",
   "execution_count": 15,
   "metadata": {},
   "outputs": [],
   "source": [
    "def seed_everything(seed):\n",
    "    random.seed(seed)\n",
    "    os.environ[\"PYTHONHASHSEED\"] = str(seed)\n",
    "    np.random.seed(seed)\n",
    "    torch.manual_seed(seed)\n",
    "    torch.cuda.manual_seed(seed)\n",
    "    torch.backends.cudnn.deterministic = True\n",
    "\n",
    "\n",
    "seed_everything(2020)"
   ]
  },
  {
   "cell_type": "markdown",
   "metadata": {},
   "source": [
    "## Prepare artificial dataset "
   ]
  },
  {
   "cell_type": "code",
   "execution_count": 2,
   "metadata": {},
   "outputs": [],
   "source": [
    "n_samples = 512\n",
    "n_feature = 4\n",
    "\n",
    "def genelate_data(n_samples = n_samples, n_feature=n_feature):\n",
    "\n",
    "    y = np.random.randint(0, 2, size=n_samples)\n",
    "    loc0 = np.random.uniform(-1, 1, n_feature)\n",
    "    loc1 = np.random.uniform(-1, 1, n_feature)\n",
    "\n",
    "    X = np.zeros((n_samples, n_feature))\n",
    "    for i, u in enumerate(y):\n",
    "        if y[i] ==0:\n",
    "            X[i] = np.random.normal(loc = loc0, scale=1.0, size=n_feature)  \n",
    "        else:\n",
    "            X[i] = np.random.normal(loc = loc1, scale=1.0, size=n_feature)  \n",
    "\n",
    "    sensi_feat = (X[:, 0] > X[:, 0].mean()).astype(int)\n",
    "    X[:, 0] = sensi_feat.astype(np.float32)\n",
    "    X = torch.from_numpy(X).float()\n",
    "    y = torch.from_numpy(y).float()\n",
    "    sensi_feat = torch.from_numpy(sensi_feat)\n",
    "    return X, y, sensi_feat\n"
   ]
  },
  {
   "cell_type": "code",
   "execution_count": 3,
   "metadata": {},
   "outputs": [],
   "source": [
    "dataset = genelate_data(1024)\n",
    "# data split\n",
    "n_train = int(0.7*len(dataset[0]))\n",
    "X_train, y_train, sensi_train = map(lambda x : x[:n_train], dataset)\n",
    "X_test, y_test, sensi_test = map(lambda x : x[n_train:], dataset)\n"
   ]
  },
  {
   "cell_type": "markdown",
   "metadata": {},
   "source": [
    "## vannila model"
   ]
  },
  {
   "cell_type": "code",
   "execution_count": 4,
   "metadata": {
    "tags": []
   },
   "outputs": [
    {
     "output_type": "stream",
     "name": "stdout",
     "text": "acc train:  0.7346368432044983\nacc test:  0.7629870176315308\n"
    }
   ],
   "source": [
    "dim_hiden = 32\n",
    "\n",
    "model = nn.Sequential(nn.Linear(n_feature,1))\n",
    "\n",
    "\n",
    "criterion = nn.BCEWithLogitsLoss()\n",
    "optimizer = optim.Adam(model.parameters())\n",
    "\n",
    "for param in model.parameters():\n",
    "    nn.init.normal_(param, 0, 1e-7)\n",
    "model.train()\n",
    "\n",
    "for i in range(0, 50):\n",
    "    optimizer.zero_grad()    \n",
    "    logit = model(X_train)\n",
    "    loss = criterion(logit.view(-1), y_train)\n",
    "    loss.backward()\n",
    "    optimizer.step()\n",
    "\n",
    "acc_train = ((torch.sigmoid(model(X_train)).view(-1) > 0.5 ).float()  == y_train ).float().mean().float().item()\n",
    "acc_test = ((torch.sigmoid(model(X_test)).view(-1) > 0.5 ).float()  == y_test ).float().mean().float().item()\n",
    "\n",
    "print(\"acc train: \", acc_train)\n",
    "print(\"acc test: \",acc_test)\n",
    "\n",
    "acc_test_vanilla = acc_test"
   ]
  },
  {
   "cell_type": "markdown",
   "metadata": {},
   "source": [
    "## parity check"
   ]
  },
  {
   "cell_type": "code",
   "execution_count": 5,
   "metadata": {
    "tags": []
   },
   "outputs": [
    {
     "output_type": "stream",
     "name": "stdout",
     "text": "{0: 0.8013244867324829, 1: 0.337579607963562}\ngap:  0.4637448787689209\n{0: {0: 0.4615384638309479, 1: 0.871999979019165}, 1: {0: 0.27131783962249756, 1: 0.6428571343421936}}\ngap:  0.6006821393966675\n"
    }
   ],
   "source": [
    "y_pred = (torch.sigmoid(model(X_test)).view(-1) > 0.5 ).float()\n",
    "\n",
    "# expected value of y_pred = 1 for each sensitive group\n",
    "# E[h(X)|A=a]\n",
    "# correspond to demographic parity\n",
    "expect_by_a={}\n",
    "\n",
    "for i in [0, 1]:\n",
    "    # print(sensi_test.shape, y_pred.shape)\n",
    "    idx = sensi_test==i\n",
    "    expect_by_a[i]=  y_pred[idx].mean().item()\n",
    "print(expect_by_a)\n",
    "vanilla_gap_dp = np.abs(expect_by_a[0] - expect_by_a[1])\n",
    "print(\"gap: \",vanilla_gap_dp)\n",
    "\n",
    "\n",
    "# expected value of y_pred = 1 for each sensitive group and true label\n",
    "# E[h(X)|A=a, Y=y]\n",
    "# correspond to equalized odds\n",
    "\n",
    "expect_by_a_y = {}\n",
    "expect_by_a_y_list = []\n",
    "\n",
    "for i in [0, 1]:\n",
    "    expect_by_a_y[i]={}\n",
    "    for j in [0, 1]:\n",
    "        idx= (sensi_test == i) & (y_test == j)\n",
    "        expc = y_pred[idx].mean().item()\n",
    "        expect_by_a_y[i][j] =  expc\n",
    "        expect_by_a_y_list.append(expc)\n",
    "print(expect_by_a_y)\n",
    "vanilla_gap_eo = np.max(expect_by_a_y_list)- np.min(expect_by_a_y_list)\n",
    "print(\"gap: \", vanilla_gap_eo)\n",
    "\n",
    "\n"
   ]
  },
  {
   "cell_type": "markdown",
   "metadata": {},
   "source": []
  },
  {
   "cell_type": "markdown",
   "metadata": {},
   "source": [
    "## demographic partity "
   ]
  },
  {
   "cell_type": "code",
   "execution_count": 6,
   "metadata": {
    "tags": []
   },
   "outputs": [
    {
     "output_type": "stream",
     "name": "stdout",
     "text": "acc train:  0.6689944267272949\nacc test:  0.6461039185523987\n"
    }
   ],
   "source": [
    "model = nn.Sequential(nn.Linear(n_feature,1))\n",
    "dp_loss = DemographicParityLoss(sensitive_classes=[0, 1], alpha=100)\n",
    "optimizer = optim.Adam(model.parameters())\n",
    "\n",
    "\n",
    "for param in model.parameters():\n",
    "    nn.init.normal_(param, 0, 1e-7)\n",
    "model.train()\n",
    "\n",
    "for i in range(0, 50):\n",
    "    optimizer.zero_grad()    \n",
    "    logit = model(X_train)\n",
    "    loss = criterion(logit.view(-1), y_train)\n",
    "    loss +=  dp_loss(X_train, logit, sensi_train)\n",
    "    loss.backward()\n",
    "    optimizer.step()\n",
    "\n",
    "\n",
    "acc_train = ((torch.sigmoid(model(X_train)).view(-1) > 0.5 ).float()  == y_train ).float().mean().float().item()\n",
    "acc_test = ((torch.sigmoid(model(X_test)).view(-1) > 0.5 ).float()  == y_test ).float().mean().float().item()\n",
    "\n",
    "print(\"acc train: \", acc_train)\n",
    "print(\"acc test: \",acc_test)\n",
    "acc_test_dp = acc_test\n"
   ]
  },
  {
   "cell_type": "code",
   "execution_count": 7,
   "metadata": {
    "tags": []
   },
   "outputs": [
    {
     "output_type": "stream",
     "name": "stdout",
     "text": "{0: 0.748344361782074, 1: 0.5923566818237305}\ngap:  0.1559876799583435\n"
    }
   ],
   "source": [
    "y_pred = (torch.sigmoid(model(X_test)).view(-1) > 0.5 ).float()\n",
    "\n",
    "# expected value of y_pred = 1 for each sensitive group\n",
    "# E[h(X)|A=a]\n",
    "# correspond to demographic parity\n",
    "expect_by_a={}\n",
    "\n",
    "for i in [0, 1]:\n",
    "    idx = sensi_test==i\n",
    "    expect_by_a[i]=  y_pred[idx].mean().item()\n",
    "print(expect_by_a)\n",
    "dp_gap_dp = np.abs(expect_by_a[0] - expect_by_a[1])\n",
    "print(\"gap: \",dp_gap_dp)\n",
    "\n"
   ]
  },
  {
   "cell_type": "code",
   "execution_count": 8,
   "metadata": {
    "tags": []
   },
   "outputs": [
    {
     "output_type": "stream",
     "name": "stdout",
     "text": "gap of Expected values of each (sensitive) with vanilla training: 0.4637448787689209 / total accuracy is 0.7629870176315308\ngap of Expected values of each (sensitive) with DP-constrained training: 0.1559876799583435 / total accuracy is 0.6461039185523987\n"
    }
   ],
   "source": [
    "print(\"gap of Expected values of each (sensitive) with vanilla training: {} / total accuracy is {}\".format(vanilla_gap_dp, acc_test_vanilla) )\n",
    "print(\"gap of Expected values of each (sensitive) with DP-constrained training: {} / total accuracy is {}\".format(dp_gap_dp, acc_test_dp) )"
   ]
  },
  {
   "cell_type": "markdown",
   "metadata": {},
   "source": [
    "## Equalied Odds "
   ]
  },
  {
   "cell_type": "code",
   "execution_count": 9,
   "metadata": {
    "tags": []
   },
   "outputs": [
    {
     "output_type": "stream",
     "name": "stdout",
     "text": "acc train:  0.7094972133636475\nacc test:  0.7077922224998474\n"
    }
   ],
   "source": [
    "model = nn.Sequential(nn.Linear(n_feature,1))\n",
    "dp_loss = EqualiedOddsLoss(sensitive_classes=[0, 1], alpha=1000)\n",
    "optimizer = optim.Adam(model.parameters())\n",
    "\n",
    "\n",
    "for param in model.parameters():\n",
    "    nn.init.normal_(param, 0, 1e-7)\n",
    "model.train()\n",
    "\n",
    "for i in range(0, 50):\n",
    "    optimizer.zero_grad()    \n",
    "    logit = model(X_train)\n",
    "    loss = criterion(logit.view(-1), y_train)\n",
    "    loss +=  dp_loss(X_train, logit, sensi_train, y_train)\n",
    "    loss.backward()\n",
    "    optimizer.step()\n",
    "\n",
    "\n",
    "acc_train = ((torch.sigmoid(model(X_train)).view(-1) > 0.5 ).float()  == y_train ).float().mean().float().item()\n",
    "acc_test = ((torch.sigmoid(model(X_test)).view(-1) > 0.5 ).float()  == y_test ).float().mean().float().item()\n",
    "\n",
    "print(\"acc train: \", acc_train)\n",
    "print(\"acc test: \",acc_test)\n",
    "acc_test_eo = acc_test\n"
   ]
  },
  {
   "cell_type": "code",
   "execution_count": 10,
   "metadata": {
    "tags": []
   },
   "outputs": [
    {
     "output_type": "stream",
     "name": "stdout",
     "text": "{0: {0: 0.42307692766189575, 1: 0.8159999847412109}, 1: {0: 0.5426356792449951, 1: 0.8214285969734192}}\ngap:  0.39835166931152344\n"
    }
   ],
   "source": [
    "# expected value of y_pred = 1 for each sensitive group and true label\n",
    "# E[h(X)|A=a, Y=y]\n",
    "# correspond to equalized odds\n",
    "\n",
    "expect_by_a_y = {}\n",
    "expect_by_a_y_list = []\n",
    "\n",
    "for i in [0, 1]:\n",
    "    expect_by_a_y[i]={}\n",
    "    for j in [0, 1]:\n",
    "        idx= (sensi_test == i) & (y_test == j)\n",
    "        expc = y_pred[idx].mean().item()\n",
    "        expect_by_a_y[i][j] =  expc\n",
    "        expect_by_a_y_list.append(expc)\n",
    "print(expect_by_a_y)\n",
    "\n",
    "eo_gap_eo = np.max(expect_by_a_y_list)- np.min(expect_by_a_y_list)\n",
    "print(\"gap: \", eo_gap_eo)"
   ]
  },
  {
   "cell_type": "code",
   "execution_count": 11,
   "metadata": {
    "tags": []
   },
   "outputs": [
    {
     "output_type": "stream",
     "name": "stdout",
     "text": "gap of Expected values of each (sensitive, y) with vanilla training: 0.6006821393966675 / total accuracy is 0.7629870176315308\ngap of Expected values of each (sensitive, y) with EO-constrained training: 0.39835166931152344 / total accuracy is 0.7077922224998474\n"
    }
   ],
   "source": [
    "print(\"gap of Expected values of each (sensitive, y) with vanilla training: {} / total accuracy is {}\".format(vanilla_gap_eo, acc_test_vanilla) )\n",
    "print(\"gap of Expected values of each (sensitive, y) with EO-constrained training: {} / total accuracy is {}\".format(eo_gap_eo, acc_test_eo) )"
   ]
  },
  {
   "cell_type": "code",
   "execution_count": null,
   "metadata": {},
   "outputs": [],
   "source": []
  }
 ]
}